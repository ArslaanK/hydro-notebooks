{
 "cells": [
  {
   "cell_type": "markdown",
   "metadata": {},
   "source": [
    "# Download data from the NOAA Tides and Currents site"
   ]
  },
  {
   "cell_type": "code",
   "execution_count": 1,
   "metadata": {
    "collapsed": true
   },
   "outputs": [],
   "source": [
    "import os\n",
    "import requests"
   ]
  },
  {
   "cell_type": "markdown",
   "metadata": {},
   "source": [
    "## Describe data to download"
   ]
  },
  {
   "cell_type": "code",
   "execution_count": 2,
   "metadata": {
    "collapsed": false
   },
   "outputs": [],
   "source": [
    "product    = 'hourly_height'\n",
    "begin_year = 1983\n",
    "end_year   = 2015\n",
    "datum      = 'NAVD'\n",
    "station    = '8594900'\n",
    "time_zone  = 'gmt'\n",
    "units      = 'english'\n",
    "formatt    = 'csv'\n",
    "string = \"http://tidesandcurrents.noaa.gov/api/datagetter?product={}&application=web_services&begin_date={}&end_date={}&datum={}&station={}&time_zone={}&units={}&format={}\""
   ]
  },
  {
   "cell_type": "markdown",
   "metadata": {},
   "source": [
    "## Define download function"
   ]
  },
  {
   "cell_type": "code",
   "execution_count": 3,
   "metadata": {
    "collapsed": true
   },
   "outputs": [],
   "source": [
    "def download_file(url,filename):\n",
    "    local_filename = filename\n",
    "    # NOTE the stream=True parameter\n",
    "    r = requests.get(url, stream=True)\n",
    "    with open(local_filename, 'wb') as f:\n",
    "        for chunk in r.iter_content(chunk_size=1024): \n",
    "            if chunk: # filter out keep-alive new chunks\n",
    "                f.write(chunk)\n",
    "                #f.flush() commented by recommendation from J.F.Sebastian\n",
    "    return local_filename"
   ]
  },
  {
   "cell_type": "markdown",
   "metadata": {},
   "source": [
    "## CD to the directory where the data will be stored"
   ]
  },
  {
   "cell_type": "code",
   "execution_count": 5,
   "metadata": {
    "collapsed": false
   },
   "outputs": [],
   "source": [
    "os.chdir(r\"C:\\Users\\jdorvinen\\Documents\\GitHub\\hydro-notebooks\\tides\\data\")"
   ]
  },
  {
   "cell_type": "markdown",
   "metadata": {
    "collapsed": false
   },
   "source": [
    "## Download files"
   ]
  },
  {
   "cell_type": "code",
   "execution_count": 7,
   "metadata": {
    "collapsed": false
   },
   "outputs": [],
   "source": [
    "filenames = []\n",
    "for i in range((end_year-begin_year+1)):\n",
    "    year = begin_year+i\n",
    "    filename   = station+'_'+product+'_'+str(year)+'.csv'\n",
    "    filenames.append(filename)\n",
    "    begin_date = '{}0101'.format(str(year))\n",
    "    end_date   = '{}1231'.format(str(year))\n",
    "    url        = string.format(product,begin_date,end_date,datum,station,time_zone,units,formatt)\n",
    "    download_file(url,filename)"
   ]
  },
  {
   "cell_type": "markdown",
   "metadata": {
    "collapsed": true
   },
   "source": [
    "## Combine files"
   ]
  },
  {
   "cell_type": "code",
   "execution_count": 8,
   "metadata": {
    "collapsed": false
   },
   "outputs": [],
   "source": [
    "combinedfiles = station+'_'+product+'_combined.txt'\n",
    "with open(combinedfiles, 'w') as outfile:\n",
    "    with open(filenames[0],'r') as r:\n",
    "        header = r.readline()\n",
    "        outfile.write(header)\n",
    "    r.close()\n",
    "    for fname in filenames:    \n",
    "        with open(fname) as infile:\n",
    "            for line in infile:\n",
    "                if line != header:\n",
    "                    outfile.write(line)"
   ]
  }
 ],
 "metadata": {
  "anaconda-cloud": {},
  "kernelspec": {
   "display_name": "Python [conda env:py27]",
   "language": "python",
   "name": "conda-env-py27-py"
  },
  "language_info": {
   "codemirror_mode": {
    "name": "ipython",
    "version": 2
   },
   "file_extension": ".py",
   "mimetype": "text/x-python",
   "name": "python",
   "nbconvert_exporter": "python",
   "pygments_lexer": "ipython2",
   "version": "2.7.12"
  }
 },
 "nbformat": 4,
 "nbformat_minor": 0
}
